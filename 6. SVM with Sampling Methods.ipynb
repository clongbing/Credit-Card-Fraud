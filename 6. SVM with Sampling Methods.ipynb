{
 "cells": [
  {
   "cell_type": "markdown",
   "metadata": {},
   "source": [
    "# SVM Classifier"
   ]
  },
  {
   "cell_type": "markdown",
   "metadata": {},
   "source": [
    "## Explore Random Forest Results with various Undersampling and Oversampling methods.\n",
    "\n",
    "Undersampling methods to explore:\n",
    "- Random Undersampling\n",
    "- Cluster Centroids Undersampling\n",
    "- Near Miss Undersampling \n",
    "\n",
    "Oversampling methods to explore:\n",
    "- Random Oversampling\n",
    "- SMOTE\n",
    "- ADASYN"
   ]
  },
  {
   "cell_type": "code",
   "execution_count": 1,
   "metadata": {},
   "outputs": [],
   "source": [
    "import numpy as np\n",
    "import pandas as pd\n",
    "from sklearn.metrics import classification_report\n",
    "from sklearn.metrics import confusion_matrix\n",
    "from sklearn.metrics import plot_confusion_matrix\n",
    "from sklearn.metrics import average_precision_score\n",
    "from sklearn.metrics import precision_recall_curve\n",
    "from sklearn.metrics import plot_precision_recall_curve\n",
    "from src import model_results\n",
    "import matplotlib.pyplot as plt"
   ]
  },
  {
   "cell_type": "code",
   "execution_count": 2,
   "metadata": {},
   "outputs": [],
   "source": [
    "df = pd.read_csv(\"creditcard.csv\")"
   ]
  },
  {
   "cell_type": "code",
   "execution_count": 3,
   "metadata": {},
   "outputs": [],
   "source": [
    "df.drop('Time',axis=1,inplace=True)"
   ]
  },
  {
   "cell_type": "code",
   "execution_count": 4,
   "metadata": {},
   "outputs": [
    {
     "data": {
      "text/html": [
       "<div>\n",
       "<style scoped>\n",
       "    .dataframe tbody tr th:only-of-type {\n",
       "        vertical-align: middle;\n",
       "    }\n",
       "\n",
       "    .dataframe tbody tr th {\n",
       "        vertical-align: top;\n",
       "    }\n",
       "\n",
       "    .dataframe thead th {\n",
       "        text-align: right;\n",
       "    }\n",
       "</style>\n",
       "<table border=\"1\" class=\"dataframe\">\n",
       "  <thead>\n",
       "    <tr style=\"text-align: right;\">\n",
       "      <th></th>\n",
       "      <th>V1</th>\n",
       "      <th>V2</th>\n",
       "      <th>V3</th>\n",
       "      <th>V4</th>\n",
       "      <th>V5</th>\n",
       "      <th>V6</th>\n",
       "      <th>V7</th>\n",
       "      <th>V8</th>\n",
       "      <th>V9</th>\n",
       "      <th>V10</th>\n",
       "      <th>...</th>\n",
       "      <th>V21</th>\n",
       "      <th>V22</th>\n",
       "      <th>V23</th>\n",
       "      <th>V24</th>\n",
       "      <th>V25</th>\n",
       "      <th>V26</th>\n",
       "      <th>V27</th>\n",
       "      <th>V28</th>\n",
       "      <th>Amount</th>\n",
       "      <th>Class</th>\n",
       "    </tr>\n",
       "  </thead>\n",
       "  <tbody>\n",
       "    <tr>\n",
       "      <th>0</th>\n",
       "      <td>-1.359807</td>\n",
       "      <td>-0.072781</td>\n",
       "      <td>2.536347</td>\n",
       "      <td>1.378155</td>\n",
       "      <td>-0.338321</td>\n",
       "      <td>0.462388</td>\n",
       "      <td>0.239599</td>\n",
       "      <td>0.098698</td>\n",
       "      <td>0.363787</td>\n",
       "      <td>0.090794</td>\n",
       "      <td>...</td>\n",
       "      <td>-0.018307</td>\n",
       "      <td>0.277838</td>\n",
       "      <td>-0.110474</td>\n",
       "      <td>0.066928</td>\n",
       "      <td>0.128539</td>\n",
       "      <td>-0.189115</td>\n",
       "      <td>0.133558</td>\n",
       "      <td>-0.021053</td>\n",
       "      <td>149.62</td>\n",
       "      <td>0</td>\n",
       "    </tr>\n",
       "    <tr>\n",
       "      <th>1</th>\n",
       "      <td>1.191857</td>\n",
       "      <td>0.266151</td>\n",
       "      <td>0.166480</td>\n",
       "      <td>0.448154</td>\n",
       "      <td>0.060018</td>\n",
       "      <td>-0.082361</td>\n",
       "      <td>-0.078803</td>\n",
       "      <td>0.085102</td>\n",
       "      <td>-0.255425</td>\n",
       "      <td>-0.166974</td>\n",
       "      <td>...</td>\n",
       "      <td>-0.225775</td>\n",
       "      <td>-0.638672</td>\n",
       "      <td>0.101288</td>\n",
       "      <td>-0.339846</td>\n",
       "      <td>0.167170</td>\n",
       "      <td>0.125895</td>\n",
       "      <td>-0.008983</td>\n",
       "      <td>0.014724</td>\n",
       "      <td>2.69</td>\n",
       "      <td>0</td>\n",
       "    </tr>\n",
       "    <tr>\n",
       "      <th>2</th>\n",
       "      <td>-1.358354</td>\n",
       "      <td>-1.340163</td>\n",
       "      <td>1.773209</td>\n",
       "      <td>0.379780</td>\n",
       "      <td>-0.503198</td>\n",
       "      <td>1.800499</td>\n",
       "      <td>0.791461</td>\n",
       "      <td>0.247676</td>\n",
       "      <td>-1.514654</td>\n",
       "      <td>0.207643</td>\n",
       "      <td>...</td>\n",
       "      <td>0.247998</td>\n",
       "      <td>0.771679</td>\n",
       "      <td>0.909412</td>\n",
       "      <td>-0.689281</td>\n",
       "      <td>-0.327642</td>\n",
       "      <td>-0.139097</td>\n",
       "      <td>-0.055353</td>\n",
       "      <td>-0.059752</td>\n",
       "      <td>378.66</td>\n",
       "      <td>0</td>\n",
       "    </tr>\n",
       "    <tr>\n",
       "      <th>3</th>\n",
       "      <td>-0.966272</td>\n",
       "      <td>-0.185226</td>\n",
       "      <td>1.792993</td>\n",
       "      <td>-0.863291</td>\n",
       "      <td>-0.010309</td>\n",
       "      <td>1.247203</td>\n",
       "      <td>0.237609</td>\n",
       "      <td>0.377436</td>\n",
       "      <td>-1.387024</td>\n",
       "      <td>-0.054952</td>\n",
       "      <td>...</td>\n",
       "      <td>-0.108300</td>\n",
       "      <td>0.005274</td>\n",
       "      <td>-0.190321</td>\n",
       "      <td>-1.175575</td>\n",
       "      <td>0.647376</td>\n",
       "      <td>-0.221929</td>\n",
       "      <td>0.062723</td>\n",
       "      <td>0.061458</td>\n",
       "      <td>123.50</td>\n",
       "      <td>0</td>\n",
       "    </tr>\n",
       "    <tr>\n",
       "      <th>4</th>\n",
       "      <td>-1.158233</td>\n",
       "      <td>0.877737</td>\n",
       "      <td>1.548718</td>\n",
       "      <td>0.403034</td>\n",
       "      <td>-0.407193</td>\n",
       "      <td>0.095921</td>\n",
       "      <td>0.592941</td>\n",
       "      <td>-0.270533</td>\n",
       "      <td>0.817739</td>\n",
       "      <td>0.753074</td>\n",
       "      <td>...</td>\n",
       "      <td>-0.009431</td>\n",
       "      <td>0.798278</td>\n",
       "      <td>-0.137458</td>\n",
       "      <td>0.141267</td>\n",
       "      <td>-0.206010</td>\n",
       "      <td>0.502292</td>\n",
       "      <td>0.219422</td>\n",
       "      <td>0.215153</td>\n",
       "      <td>69.99</td>\n",
       "      <td>0</td>\n",
       "    </tr>\n",
       "  </tbody>\n",
       "</table>\n",
       "<p>5 rows × 30 columns</p>\n",
       "</div>"
      ],
      "text/plain": [
       "         V1        V2        V3        V4        V5        V6        V7  \\\n",
       "0 -1.359807 -0.072781  2.536347  1.378155 -0.338321  0.462388  0.239599   \n",
       "1  1.191857  0.266151  0.166480  0.448154  0.060018 -0.082361 -0.078803   \n",
       "2 -1.358354 -1.340163  1.773209  0.379780 -0.503198  1.800499  0.791461   \n",
       "3 -0.966272 -0.185226  1.792993 -0.863291 -0.010309  1.247203  0.237609   \n",
       "4 -1.158233  0.877737  1.548718  0.403034 -0.407193  0.095921  0.592941   \n",
       "\n",
       "         V8        V9       V10  ...       V21       V22       V23       V24  \\\n",
       "0  0.098698  0.363787  0.090794  ... -0.018307  0.277838 -0.110474  0.066928   \n",
       "1  0.085102 -0.255425 -0.166974  ... -0.225775 -0.638672  0.101288 -0.339846   \n",
       "2  0.247676 -1.514654  0.207643  ...  0.247998  0.771679  0.909412 -0.689281   \n",
       "3  0.377436 -1.387024 -0.054952  ... -0.108300  0.005274 -0.190321 -1.175575   \n",
       "4 -0.270533  0.817739  0.753074  ... -0.009431  0.798278 -0.137458  0.141267   \n",
       "\n",
       "        V25       V26       V27       V28  Amount  Class  \n",
       "0  0.128539 -0.189115  0.133558 -0.021053  149.62      0  \n",
       "1  0.167170  0.125895 -0.008983  0.014724    2.69      0  \n",
       "2 -0.327642 -0.139097 -0.055353 -0.059752  378.66      0  \n",
       "3  0.647376 -0.221929  0.062723  0.061458  123.50      0  \n",
       "4 -0.206010  0.502292  0.219422  0.215153   69.99      0  \n",
       "\n",
       "[5 rows x 30 columns]"
      ]
     },
     "execution_count": 4,
     "metadata": {},
     "output_type": "execute_result"
    }
   ],
   "source": [
    "df.head()"
   ]
  },
  {
   "cell_type": "markdown",
   "metadata": {},
   "source": [
    "## Train Test Split "
   ]
  },
  {
   "cell_type": "code",
   "execution_count": 5,
   "metadata": {},
   "outputs": [],
   "source": [
    "from sklearn.model_selection import train_test_split"
   ]
  },
  {
   "cell_type": "code",
   "execution_count": 6,
   "metadata": {},
   "outputs": [],
   "source": [
    "X = df.drop('Class',axis=1)\n",
    "y = df['Class']"
   ]
  },
  {
   "cell_type": "code",
   "execution_count": 7,
   "metadata": {},
   "outputs": [],
   "source": [
    "X_train, X_test, y_train, y_test = train_test_split(X, y, test_size=0.3, random_state=111)"
   ]
  },
  {
   "cell_type": "markdown",
   "metadata": {},
   "source": [
    "## Scale data (Amount column) for SVM \n",
    "\n",
    "- Applying train-test-split before scaling X_train and X_test 'Amount' column \n",
    "- Scale X_train and X_test separately \n",
    "- This is to avoid data leakage (as oppose to scaling before splitting)"
   ]
  },
  {
   "cell_type": "code",
   "execution_count": 8,
   "metadata": {},
   "outputs": [],
   "source": [
    "from sklearn.preprocessing import scale"
   ]
  },
  {
   "cell_type": "code",
   "execution_count": 9,
   "metadata": {},
   "outputs": [],
   "source": [
    "#Scale the Amount colmun for SVC (on training data)\n",
    "X_train_scaled_amount = scale(X_train['Amount'])"
   ]
  },
  {
   "cell_type": "code",
   "execution_count": 10,
   "metadata": {},
   "outputs": [
    {
     "name": "stderr",
     "output_type": "stream",
     "text": [
      "C:\\Users\\Long Bing\\anaconda3\\lib\\site-packages\\ipykernel_launcher.py:2: SettingWithCopyWarning: \n",
      "A value is trying to be set on a copy of a slice from a DataFrame.\n",
      "Try using .loc[row_indexer,col_indexer] = value instead\n",
      "\n",
      "See the caveats in the documentation: https://pandas.pydata.org/pandas-docs/stable/user_guide/indexing.html#returning-a-view-versus-a-copy\n",
      "  \n"
     ]
    }
   ],
   "source": [
    "#Replace the original 'Amount' column with scaled 'Amount'\n",
    "X_train['Amount']=X_train_scaled_amount"
   ]
  },
  {
   "cell_type": "code",
   "execution_count": 11,
   "metadata": {},
   "outputs": [
    {
     "data": {
      "text/html": [
       "<div>\n",
       "<style scoped>\n",
       "    .dataframe tbody tr th:only-of-type {\n",
       "        vertical-align: middle;\n",
       "    }\n",
       "\n",
       "    .dataframe tbody tr th {\n",
       "        vertical-align: top;\n",
       "    }\n",
       "\n",
       "    .dataframe thead th {\n",
       "        text-align: right;\n",
       "    }\n",
       "</style>\n",
       "<table border=\"1\" class=\"dataframe\">\n",
       "  <thead>\n",
       "    <tr style=\"text-align: right;\">\n",
       "      <th></th>\n",
       "      <th>V1</th>\n",
       "      <th>V2</th>\n",
       "      <th>V3</th>\n",
       "      <th>V4</th>\n",
       "      <th>V5</th>\n",
       "      <th>V6</th>\n",
       "      <th>V7</th>\n",
       "      <th>V8</th>\n",
       "      <th>V9</th>\n",
       "      <th>V10</th>\n",
       "      <th>...</th>\n",
       "      <th>V20</th>\n",
       "      <th>V21</th>\n",
       "      <th>V22</th>\n",
       "      <th>V23</th>\n",
       "      <th>V24</th>\n",
       "      <th>V25</th>\n",
       "      <th>V26</th>\n",
       "      <th>V27</th>\n",
       "      <th>V28</th>\n",
       "      <th>Amount</th>\n",
       "    </tr>\n",
       "  </thead>\n",
       "  <tbody>\n",
       "    <tr>\n",
       "      <th>64454</th>\n",
       "      <td>-3.538816</td>\n",
       "      <td>3.481893</td>\n",
       "      <td>-1.827130</td>\n",
       "      <td>-0.573050</td>\n",
       "      <td>2.644106</td>\n",
       "      <td>-0.340988</td>\n",
       "      <td>2.102135</td>\n",
       "      <td>-2.939006</td>\n",
       "      <td>2.578654</td>\n",
       "      <td>3.155261</td>\n",
       "      <td>...</td>\n",
       "      <td>1.345904</td>\n",
       "      <td>0.530978</td>\n",
       "      <td>-0.860677</td>\n",
       "      <td>-0.201810</td>\n",
       "      <td>-1.719747</td>\n",
       "      <td>0.729143</td>\n",
       "      <td>-0.547993</td>\n",
       "      <td>-0.023636</td>\n",
       "      <td>-0.454966</td>\n",
       "      <td>-0.364820</td>\n",
       "    </tr>\n",
       "    <tr>\n",
       "      <th>37906</th>\n",
       "      <td>-0.363913</td>\n",
       "      <td>0.853399</td>\n",
       "      <td>1.648195</td>\n",
       "      <td>1.118934</td>\n",
       "      <td>0.100882</td>\n",
       "      <td>0.423852</td>\n",
       "      <td>0.472790</td>\n",
       "      <td>-0.972440</td>\n",
       "      <td>0.033833</td>\n",
       "      <td>0.629036</td>\n",
       "      <td>...</td>\n",
       "      <td>-0.192932</td>\n",
       "      <td>0.687055</td>\n",
       "      <td>-0.094586</td>\n",
       "      <td>0.121531</td>\n",
       "      <td>0.146830</td>\n",
       "      <td>-0.944092</td>\n",
       "      <td>-0.558564</td>\n",
       "      <td>-0.186814</td>\n",
       "      <td>-0.257103</td>\n",
       "      <td>-0.291617</td>\n",
       "    </tr>\n",
       "    <tr>\n",
       "      <th>79378</th>\n",
       "      <td>1.193021</td>\n",
       "      <td>-0.136714</td>\n",
       "      <td>0.622612</td>\n",
       "      <td>0.780864</td>\n",
       "      <td>-0.823511</td>\n",
       "      <td>-0.706444</td>\n",
       "      <td>-0.206073</td>\n",
       "      <td>-0.016918</td>\n",
       "      <td>0.781531</td>\n",
       "      <td>-0.185059</td>\n",
       "      <td>...</td>\n",
       "      <td>-0.178761</td>\n",
       "      <td>-0.310405</td>\n",
       "      <td>-0.842028</td>\n",
       "      <td>0.085477</td>\n",
       "      <td>0.366005</td>\n",
       "      <td>0.254443</td>\n",
       "      <td>0.290002</td>\n",
       "      <td>-0.036764</td>\n",
       "      <td>0.015039</td>\n",
       "      <td>-0.269644</td>\n",
       "    </tr>\n",
       "    <tr>\n",
       "      <th>245686</th>\n",
       "      <td>1.604032</td>\n",
       "      <td>-0.808208</td>\n",
       "      <td>-1.594982</td>\n",
       "      <td>0.200475</td>\n",
       "      <td>0.502985</td>\n",
       "      <td>0.832370</td>\n",
       "      <td>-0.034071</td>\n",
       "      <td>0.234040</td>\n",
       "      <td>0.550616</td>\n",
       "      <td>-0.051983</td>\n",
       "      <td>...</td>\n",
       "      <td>-0.040448</td>\n",
       "      <td>0.519029</td>\n",
       "      <td>1.429217</td>\n",
       "      <td>-0.139322</td>\n",
       "      <td>-1.293663</td>\n",
       "      <td>0.037785</td>\n",
       "      <td>0.061206</td>\n",
       "      <td>0.005387</td>\n",
       "      <td>-0.057296</td>\n",
       "      <td>0.286095</td>\n",
       "    </tr>\n",
       "    <tr>\n",
       "      <th>60943</th>\n",
       "      <td>-2.669614</td>\n",
       "      <td>-2.734385</td>\n",
       "      <td>0.662450</td>\n",
       "      <td>-0.059077</td>\n",
       "      <td>3.346850</td>\n",
       "      <td>-2.549682</td>\n",
       "      <td>-1.430571</td>\n",
       "      <td>-0.118450</td>\n",
       "      <td>0.469383</td>\n",
       "      <td>-0.185599</td>\n",
       "      <td>...</td>\n",
       "      <td>-0.430295</td>\n",
       "      <td>-0.228329</td>\n",
       "      <td>-0.370643</td>\n",
       "      <td>-0.211544</td>\n",
       "      <td>-0.300837</td>\n",
       "      <td>-1.174590</td>\n",
       "      <td>0.573818</td>\n",
       "      <td>0.388023</td>\n",
       "      <td>0.161782</td>\n",
       "      <td>-0.128344</td>\n",
       "    </tr>\n",
       "  </tbody>\n",
       "</table>\n",
       "<p>5 rows × 29 columns</p>\n",
       "</div>"
      ],
      "text/plain": [
       "              V1        V2        V3        V4        V5        V6        V7  \\\n",
       "64454  -3.538816  3.481893 -1.827130 -0.573050  2.644106 -0.340988  2.102135   \n",
       "37906  -0.363913  0.853399  1.648195  1.118934  0.100882  0.423852  0.472790   \n",
       "79378   1.193021 -0.136714  0.622612  0.780864 -0.823511 -0.706444 -0.206073   \n",
       "245686  1.604032 -0.808208 -1.594982  0.200475  0.502985  0.832370 -0.034071   \n",
       "60943  -2.669614 -2.734385  0.662450 -0.059077  3.346850 -2.549682 -1.430571   \n",
       "\n",
       "              V8        V9       V10  ...       V20       V21       V22  \\\n",
       "64454  -2.939006  2.578654  3.155261  ...  1.345904  0.530978 -0.860677   \n",
       "37906  -0.972440  0.033833  0.629036  ... -0.192932  0.687055 -0.094586   \n",
       "79378  -0.016918  0.781531 -0.185059  ... -0.178761 -0.310405 -0.842028   \n",
       "245686  0.234040  0.550616 -0.051983  ... -0.040448  0.519029  1.429217   \n",
       "60943  -0.118450  0.469383 -0.185599  ... -0.430295 -0.228329 -0.370643   \n",
       "\n",
       "             V23       V24       V25       V26       V27       V28    Amount  \n",
       "64454  -0.201810 -1.719747  0.729143 -0.547993 -0.023636 -0.454966 -0.364820  \n",
       "37906   0.121531  0.146830 -0.944092 -0.558564 -0.186814 -0.257103 -0.291617  \n",
       "79378   0.085477  0.366005  0.254443  0.290002 -0.036764  0.015039 -0.269644  \n",
       "245686 -0.139322 -1.293663  0.037785  0.061206  0.005387 -0.057296  0.286095  \n",
       "60943  -0.211544 -0.300837 -1.174590  0.573818  0.388023  0.161782 -0.128344  \n",
       "\n",
       "[5 rows x 29 columns]"
      ]
     },
     "execution_count": 11,
     "metadata": {},
     "output_type": "execute_result"
    }
   ],
   "source": [
    "#X_train 'Amount' is scaled\n",
    "X_train.head()"
   ]
  },
  {
   "cell_type": "code",
   "execution_count": 12,
   "metadata": {},
   "outputs": [],
   "source": [
    "#Scale the Amount colmun for SVC (on testng data)\n",
    "X_test_scaled_amount = scale(X_test['Amount'])"
   ]
  },
  {
   "cell_type": "code",
   "execution_count": 13,
   "metadata": {
    "scrolled": true
   },
   "outputs": [
    {
     "name": "stderr",
     "output_type": "stream",
     "text": [
      "C:\\Users\\Long Bing\\anaconda3\\lib\\site-packages\\ipykernel_launcher.py:2: SettingWithCopyWarning: \n",
      "A value is trying to be set on a copy of a slice from a DataFrame.\n",
      "Try using .loc[row_indexer,col_indexer] = value instead\n",
      "\n",
      "See the caveats in the documentation: https://pandas.pydata.org/pandas-docs/stable/user_guide/indexing.html#returning-a-view-versus-a-copy\n",
      "  \n"
     ]
    }
   ],
   "source": [
    "#Replace the original 'Amount' column with scaled 'Amount'\n",
    "X_test['Amount']=X_test_scaled_amount"
   ]
  },
  {
   "cell_type": "code",
   "execution_count": 14,
   "metadata": {},
   "outputs": [
    {
     "data": {
      "text/html": [
       "<div>\n",
       "<style scoped>\n",
       "    .dataframe tbody tr th:only-of-type {\n",
       "        vertical-align: middle;\n",
       "    }\n",
       "\n",
       "    .dataframe tbody tr th {\n",
       "        vertical-align: top;\n",
       "    }\n",
       "\n",
       "    .dataframe thead th {\n",
       "        text-align: right;\n",
       "    }\n",
       "</style>\n",
       "<table border=\"1\" class=\"dataframe\">\n",
       "  <thead>\n",
       "    <tr style=\"text-align: right;\">\n",
       "      <th></th>\n",
       "      <th>V1</th>\n",
       "      <th>V2</th>\n",
       "      <th>V3</th>\n",
       "      <th>V4</th>\n",
       "      <th>V5</th>\n",
       "      <th>V6</th>\n",
       "      <th>V7</th>\n",
       "      <th>V8</th>\n",
       "      <th>V9</th>\n",
       "      <th>V10</th>\n",
       "      <th>...</th>\n",
       "      <th>V20</th>\n",
       "      <th>V21</th>\n",
       "      <th>V22</th>\n",
       "      <th>V23</th>\n",
       "      <th>V24</th>\n",
       "      <th>V25</th>\n",
       "      <th>V26</th>\n",
       "      <th>V27</th>\n",
       "      <th>V28</th>\n",
       "      <th>Amount</th>\n",
       "    </tr>\n",
       "  </thead>\n",
       "  <tbody>\n",
       "    <tr>\n",
       "      <th>254469</th>\n",
       "      <td>-1.189404</td>\n",
       "      <td>-0.591269</td>\n",
       "      <td>-0.600846</td>\n",
       "      <td>3.512289</td>\n",
       "      <td>-1.390089</td>\n",
       "      <td>1.752359</td>\n",
       "      <td>2.374289</td>\n",
       "      <td>0.450939</td>\n",
       "      <td>-1.003577</td>\n",
       "      <td>-0.084505</td>\n",
       "      <td>...</td>\n",
       "      <td>0.969503</td>\n",
       "      <td>0.745457</td>\n",
       "      <td>1.095133</td>\n",
       "      <td>1.461693</td>\n",
       "      <td>0.589701</td>\n",
       "      <td>-0.209193</td>\n",
       "      <td>0.097121</td>\n",
       "      <td>-0.223566</td>\n",
       "      <td>0.092385</td>\n",
       "      <td>2.073851</td>\n",
       "    </tr>\n",
       "    <tr>\n",
       "      <th>121929</th>\n",
       "      <td>1.253168</td>\n",
       "      <td>-0.536514</td>\n",
       "      <td>0.010453</td>\n",
       "      <td>-2.002376</td>\n",
       "      <td>-0.675496</td>\n",
       "      <td>-0.765532</td>\n",
       "      <td>-0.155118</td>\n",
       "      <td>-0.136187</td>\n",
       "      <td>1.882972</td>\n",
       "      <td>-1.532621</td>\n",
       "      <td>...</td>\n",
       "      <td>0.002578</td>\n",
       "      <td>0.016080</td>\n",
       "      <td>0.425180</td>\n",
       "      <td>-0.274055</td>\n",
       "      <td>0.104499</td>\n",
       "      <td>0.954705</td>\n",
       "      <td>-0.672143</td>\n",
       "      <td>0.074562</td>\n",
       "      <td>0.009715</td>\n",
       "      <td>-0.232562</td>\n",
       "    </tr>\n",
       "    <tr>\n",
       "      <th>114879</th>\n",
       "      <td>-1.644384</td>\n",
       "      <td>0.233326</td>\n",
       "      <td>1.593087</td>\n",
       "      <td>-0.030053</td>\n",
       "      <td>1.026072</td>\n",
       "      <td>-1.067972</td>\n",
       "      <td>0.373123</td>\n",
       "      <td>-1.477697</td>\n",
       "      <td>0.415043</td>\n",
       "      <td>1.324159</td>\n",
       "      <td>...</td>\n",
       "      <td>-0.240111</td>\n",
       "      <td>0.391676</td>\n",
       "      <td>-0.420744</td>\n",
       "      <td>-0.276312</td>\n",
       "      <td>0.542789</td>\n",
       "      <td>-0.633719</td>\n",
       "      <td>-0.028573</td>\n",
       "      <td>-0.127075</td>\n",
       "      <td>-0.290045</td>\n",
       "      <td>-0.265498</td>\n",
       "    </tr>\n",
       "    <tr>\n",
       "      <th>81232</th>\n",
       "      <td>-0.636997</td>\n",
       "      <td>0.645736</td>\n",
       "      <td>0.269894</td>\n",
       "      <td>-0.538135</td>\n",
       "      <td>1.507577</td>\n",
       "      <td>4.108075</td>\n",
       "      <td>-0.988026</td>\n",
       "      <td>1.529162</td>\n",
       "      <td>0.059633</td>\n",
       "      <td>-0.522691</td>\n",
       "      <td>...</td>\n",
       "      <td>0.014794</td>\n",
       "      <td>0.039418</td>\n",
       "      <td>-0.003335</td>\n",
       "      <td>-0.023020</td>\n",
       "      <td>1.042331</td>\n",
       "      <td>-0.522377</td>\n",
       "      <td>0.315403</td>\n",
       "      <td>-0.079888</td>\n",
       "      <td>0.098038</td>\n",
       "      <td>-0.307288</td>\n",
       "    </tr>\n",
       "    <tr>\n",
       "      <th>273250</th>\n",
       "      <td>-8.082612</td>\n",
       "      <td>7.069211</td>\n",
       "      <td>-4.137467</td>\n",
       "      <td>-3.087794</td>\n",
       "      <td>-0.356587</td>\n",
       "      <td>-1.988519</td>\n",
       "      <td>1.663142</td>\n",
       "      <td>-0.366969</td>\n",
       "      <td>6.218938</td>\n",
       "      <td>10.880683</td>\n",
       "      <td>...</td>\n",
       "      <td>4.263887</td>\n",
       "      <td>-0.901314</td>\n",
       "      <td>0.532696</td>\n",
       "      <td>0.128477</td>\n",
       "      <td>0.005124</td>\n",
       "      <td>1.255585</td>\n",
       "      <td>-0.000528</td>\n",
       "      <td>2.071641</td>\n",
       "      <td>0.565471</td>\n",
       "      <td>-0.309437</td>\n",
       "    </tr>\n",
       "  </tbody>\n",
       "</table>\n",
       "<p>5 rows × 29 columns</p>\n",
       "</div>"
      ],
      "text/plain": [
       "              V1        V2        V3        V4        V5        V6        V7  \\\n",
       "254469 -1.189404 -0.591269 -0.600846  3.512289 -1.390089  1.752359  2.374289   \n",
       "121929  1.253168 -0.536514  0.010453 -2.002376 -0.675496 -0.765532 -0.155118   \n",
       "114879 -1.644384  0.233326  1.593087 -0.030053  1.026072 -1.067972  0.373123   \n",
       "81232  -0.636997  0.645736  0.269894 -0.538135  1.507577  4.108075 -0.988026   \n",
       "273250 -8.082612  7.069211 -4.137467 -3.087794 -0.356587 -1.988519  1.663142   \n",
       "\n",
       "              V8        V9        V10  ...       V20       V21       V22  \\\n",
       "254469  0.450939 -1.003577  -0.084505  ...  0.969503  0.745457  1.095133   \n",
       "121929 -0.136187  1.882972  -1.532621  ...  0.002578  0.016080  0.425180   \n",
       "114879 -1.477697  0.415043   1.324159  ... -0.240111  0.391676 -0.420744   \n",
       "81232   1.529162  0.059633  -0.522691  ...  0.014794  0.039418 -0.003335   \n",
       "273250 -0.366969  6.218938  10.880683  ...  4.263887 -0.901314  0.532696   \n",
       "\n",
       "             V23       V24       V25       V26       V27       V28    Amount  \n",
       "254469  1.461693  0.589701 -0.209193  0.097121 -0.223566  0.092385  2.073851  \n",
       "121929 -0.274055  0.104499  0.954705 -0.672143  0.074562  0.009715 -0.232562  \n",
       "114879 -0.276312  0.542789 -0.633719 -0.028573 -0.127075 -0.290045 -0.265498  \n",
       "81232  -0.023020  1.042331 -0.522377  0.315403 -0.079888  0.098038 -0.307288  \n",
       "273250  0.128477  0.005124  1.255585 -0.000528  2.071641  0.565471 -0.309437  \n",
       "\n",
       "[5 rows x 29 columns]"
      ]
     },
     "execution_count": 14,
     "metadata": {},
     "output_type": "execute_result"
    }
   ],
   "source": [
    "#X_test 'Amount' is scaled\n",
    "X_test.head()"
   ]
  },
  {
   "cell_type": "markdown",
   "metadata": {},
   "source": [
    "# Instantiate SVC"
   ]
  },
  {
   "cell_type": "code",
   "execution_count": 15,
   "metadata": {},
   "outputs": [],
   "source": [
    "from sklearn.svm import SVC"
   ]
  },
  {
   "cell_type": "code",
   "execution_count": 16,
   "metadata": {},
   "outputs": [],
   "source": [
    "svc = SVC() #using only default parameters and gridsearch takes a very long time on oversampled data"
   ]
  },
  {
   "cell_type": "markdown",
   "metadata": {},
   "source": [
    "# Undersample training data (Random Undersampling, Cluster Centroids, Near Miss"
   ]
  },
  {
   "cell_type": "markdown",
   "metadata": {},
   "source": [
    "## Random Undersampling "
   ]
  },
  {
   "cell_type": "code",
   "execution_count": 25,
   "metadata": {},
   "outputs": [],
   "source": [
    "from imblearn.under_sampling import RandomUnderSampler"
   ]
  },
  {
   "cell_type": "code",
   "execution_count": 26,
   "metadata": {},
   "outputs": [],
   "source": [
    "random_undersampler = RandomUnderSampler(random_state=111)"
   ]
  },
  {
   "cell_type": "code",
   "execution_count": 27,
   "metadata": {},
   "outputs": [],
   "source": [
    "X_random_under, y_random_under = random_undersampler.fit_sample(X_train,y_train)"
   ]
  },
  {
   "cell_type": "code",
   "execution_count": 28,
   "metadata": {},
   "outputs": [
    {
     "name": "stdout",
     "output_type": "stream",
     "text": [
      "Number of Non-Fradulent in test data = 339\n",
      "Number of Fradulent in test data = 339\n"
     ]
    }
   ],
   "source": [
    "#The number of Non-Fraudent data in the test set is being undersampled (with random undersampling)\n",
    "#and is now equal to the number of Fraudent data in the test set (339)\n",
    "\n",
    "Non_Fraud_count_random = sum(y_random_under==0)\n",
    "Fraud_count_random = sum(y_random_under==1)\n",
    "print('Number of Non-Fradulent in test data = '+ str(Non_Fraud_count_random))\n",
    "print('Number of Fradulent in test data = '+ str(Fraud_count_random))"
   ]
  },
  {
   "cell_type": "code",
   "execution_count": 29,
   "metadata": {},
   "outputs": [
    {
     "name": "stdout",
     "output_type": "stream",
     "text": [
      "Accuracy: 0.9773182121414277\n",
      "<sklearn.metrics._plot.confusion_matrix.ConfusionMatrixDisplay object at 0x0000029A27830108>\n",
      "<sklearn.metrics._plot.precision_recall_curve.PrecisionRecallDisplay object at 0x0000029A2782BCC8>\n"
     ]
    },
    {
     "data": {
      "image/png": "[encoded data removed]",
      "text/plain": [
       "<Figure size 432x288 with 2 Axes>"
      ]
     },
     "metadata": {
      "needs_background": "light"
     },
     "output_type": "display_data"
    },
    {
     "data": {
      "image/png": "[encoded data removed]",
      "text/plain": [
       "<Figure size 432x288 with 1 Axes>"
      ]
     },
     "metadata": {
      "needs_background": "light"
     },
     "output_type": "display_data"
    }
   ],
   "source": [
    "#Get Accuracy score, confusion matrix and precision recall curve\n",
    "model_results(svc,X_random_under,y_random_under,X_test,y_test)"
   ]
  },
  {
   "cell_type": "markdown",
   "metadata": {},
   "source": [
    "## Cluster Centroids Undersampling "
   ]
  },
  {
   "cell_type": "code",
   "execution_count": 30,
   "metadata": {},
   "outputs": [],
   "source": [
    "from imblearn.under_sampling import ClusterCentroids"
   ]
  },
  {
   "cell_type": "code",
   "execution_count": 31,
   "metadata": {},
   "outputs": [],
   "source": [
    "cc_undersampler = ClusterCentroids(sampling_strategy = 'majority',random_state=111) #undersample the majority class"
   ]
  },
  {
   "cell_type": "code",
   "execution_count": 32,
   "metadata": {},
   "outputs": [],
   "source": [
    "X_cc_under, y_cc_under = cc_undersampler.fit_sample(X_train,y_train)"
   ]
  },
  {
   "cell_type": "code",
   "execution_count": 33,
   "metadata": {},
   "outputs": [
    {
     "name": "stdout",
     "output_type": "stream",
     "text": [
      "Number of Non-Fradulent in training data = 339\n",
      "Number of Fradulent in training data = 339\n"
     ]
    }
   ],
   "source": [
    "#The number of Non-Fraudent data in the test set is being undersampled (with cluster centroid undersampling)\n",
    "#and is now equal to the number of Fraudent data in the test set (339)\n",
    "\n",
    "Non_Fraud_count_random = sum(y_cc_under==0)\n",
    "Fraud_count_random = sum(y_cc_under==1)\n",
    "print('Number of Non-Fradulent in training data = '+ str(Non_Fraud_count_random))\n",
    "print('Number of Fradulent in training data = '+ str(Fraud_count_random))"
   ]
  },
  {
   "cell_type": "code",
   "execution_count": 34,
   "metadata": {},
   "outputs": [
    {
     "name": "stdout",
     "output_type": "stream",
     "text": [
      "Accuracy: 0.9938906639514062\n",
      "<sklearn.metrics._plot.confusion_matrix.ConfusionMatrixDisplay object at 0x0000029A27929FC8>\n",
      "<sklearn.metrics._plot.precision_recall_curve.PrecisionRecallDisplay object at 0x0000029A27922108>\n"
     ]
    },
    {
     "data": {
      "image/png": "[encoded data removed]",
      "text/plain": [
       "<Figure size 432x288 with 2 Axes>"
      ]
     },
     "metadata": {
      "needs_background": "light"
     },
     "output_type": "display_data"
    },
    {
     "data": {
      "image/png": "[encoded data removed]",
      "text/plain": [
       "<Figure size 432x288 with 1 Axes>"
      ]
     },
     "metadata": {
      "needs_background": "light"
     },
     "output_type": "display_data"
    }
   ],
   "source": [
    "#Get Accuracy score, confusion matrix and precision recall curve\n",
    "model_results(svc,X_cc_under,y_cc_under,X_test,y_test)"
   ]
  },
  {
   "cell_type": "markdown",
   "metadata": {},
   "source": [
    "## Near Miss Undersampling "
   ]
  },
  {
   "cell_type": "code",
   "execution_count": 35,
   "metadata": {},
   "outputs": [],
   "source": [
    "from imblearn.under_sampling import NearMiss"
   ]
  },
  {
   "cell_type": "code",
   "execution_count": 36,
   "metadata": {},
   "outputs": [],
   "source": [
    "nm_undersampler_v3 = NearMiss(version=3)"
   ]
  },
  {
   "cell_type": "code",
   "execution_count": 37,
   "metadata": {},
   "outputs": [
    {
     "name": "stderr",
     "output_type": "stream",
     "text": [
      "C:\\Users\\Long Bing\\anaconda3\\lib\\site-packages\\imblearn\\under_sampling\\_prototype_selection\\_nearmiss.py:175: UserWarning: The number of the samples to be selected is larger than the number of samples available. The balancing ratio cannot be ensure and all samples will be returned.\n",
      "  \"The number of the samples to be selected is larger\"\n"
     ]
    }
   ],
   "source": [
    "X_nm_under, y_nm_under = nm_undersampler_v3.fit_sample(X_train,y_train)"
   ]
  },
  {
   "cell_type": "code",
   "execution_count": 38,
   "metadata": {},
   "outputs": [
    {
     "name": "stdout",
     "output_type": "stream",
     "text": [
      "Number of Non-Fradulent in training data = 309\n",
      "Number of Fradulent in training data = 339\n"
     ]
    }
   ],
   "source": [
    "#The number of Non-Fraudent data in the test set is being undersampled (with near miss undersampling)\n",
    "#and is now equal to the number of Fraudent data in the test set (339)\n",
    "\n",
    "Non_Fraud_count_random = sum(y_nm_under==0)\n",
    "Fraud_count_random = sum(y_nm_under==1)\n",
    "print('Number of Non-Fradulent in training data = '+ str(Non_Fraud_count_random))\n",
    "print('Number of Fradulent in training data = '+ str(Fraud_count_random))"
   ]
  },
  {
   "cell_type": "code",
   "execution_count": 39,
   "metadata": {},
   "outputs": [
    {
     "name": "stdout",
     "output_type": "stream",
     "text": [
      "Accuracy: 0.9987008883115059\n",
      "<sklearn.metrics._plot.confusion_matrix.ConfusionMatrixDisplay object at 0x0000029A27990CC8>\n",
      "<sklearn.metrics._plot.precision_recall_curve.PrecisionRecallDisplay object at 0x0000029A279F2A08>\n"
     ]
    },
    {
     "data": {
      "image/png": "[encoded data removed]",
      "text/plain": [
       "<Figure size 432x288 with 2 Axes>"
      ]
     },
     "metadata": {
      "needs_background": "light"
     },
     "output_type": "display_data"
    },
    {
     "data": {
      "image/png": "[encoded data removed]",
      "text/plain": [
       "<Figure size 432x288 with 1 Axes>"
      ]
     },
     "metadata": {
      "needs_background": "light"
     },
     "output_type": "display_data"
    }
   ],
   "source": [
    "#Get Accuracy score, confusion matrix and precision recall curve\n",
    "model_results(svc,X_nm_under,y_nm_under,X_test,y_test)"
   ]
  },
  {
   "cell_type": "markdown",
   "metadata": {},
   "source": [
    "# Oversample training data (Random Oversampling, SMOTE, ADASYN)"
   ]
  },
  {
   "cell_type": "markdown",
   "metadata": {},
   "source": [
    "## Random Oversampling"
   ]
  },
  {
   "cell_type": "code",
   "execution_count": 18,
   "metadata": {},
   "outputs": [],
   "source": [
    "from imblearn.over_sampling import RandomOverSampler"
   ]
  },
  {
   "cell_type": "code",
   "execution_count": 19,
   "metadata": {},
   "outputs": [],
   "source": [
    "random_oversampler = RandomOverSampler(random_state=111)"
   ]
  },
  {
   "cell_type": "code",
   "execution_count": 20,
   "metadata": {},
   "outputs": [],
   "source": [
    "X_random_over, y_random_over = random_oversampler.fit_sample(X_train,y_train)"
   ]
  },
  {
   "cell_type": "code",
   "execution_count": 21,
   "metadata": {},
   "outputs": [
    {
     "name": "stdout",
     "output_type": "stream",
     "text": [
      "Number of Non-Fradulent in training data = 199025\n",
      "Number of Fradulent in training data = 199025\n"
     ]
    }
   ],
   "source": [
    "Non_Fraud_count_random = sum(y_random_over==0)\n",
    "Fraud_count_random = sum(y_random_over==1)\n",
    "print('Number of Non-Fradulent in training data = '+ str(Non_Fraud_count_random))\n",
    "print('Number of Fradulent in training data = '+ str(Fraud_count_random))"
   ]
  },
  {
   "cell_type": "code",
   "execution_count": 22,
   "metadata": {},
   "outputs": [
    {
     "name": "stdout",
     "output_type": "stream",
     "text": [
      "Accuracy: 0.9982210362463865\n",
      "<sklearn.metrics._plot.confusion_matrix.ConfusionMatrixDisplay object at 0x000001DEF6F3C248>\n",
      "<sklearn.metrics._plot.precision_recall_curve.PrecisionRecallDisplay object at 0x000001DEE8D42CC8>\n"
     ]
    },
    {
     "data": {
      "image/png": "[encoded data removed]",
      "text/plain": [
       "<Figure size 432x288 with 2 Axes>"
      ]
     },
     "metadata": {
      "needs_background": "light"
     },
     "output_type": "display_data"
    },
    {
     "data": {
      "image/png": "[encoded data removed]",
      "text/plain": [
       "<Figure size 432x288 with 1 Axes>"
      ]
     },
     "metadata": {
      "needs_background": "light"
     },
     "output_type": "display_data"
    }
   ],
   "source": [
    "#Get Accuracy score, confusion matrix and precision recall curve\n",
    "model_results(svc,X_random_over,y_random_over,X_test,y_test)"
   ]
  },
  {
   "cell_type": "markdown",
   "metadata": {},
   "source": [
    "## SMOTE"
   ]
  },
  {
   "cell_type": "code",
   "execution_count": 40,
   "metadata": {},
   "outputs": [],
   "source": [
    "from imblearn.over_sampling import SMOTE"
   ]
  },
  {
   "cell_type": "code",
   "execution_count": 41,
   "metadata": {},
   "outputs": [],
   "source": [
    "smote_oversampler = SMOTE(k_neighbors=20,random_state=111)"
   ]
  },
  {
   "cell_type": "code",
   "execution_count": 42,
   "metadata": {},
   "outputs": [],
   "source": [
    "X_smote_over, y_smote_over = smote_oversampler.fit_sample(X_train,y_train)"
   ]
  },
  {
   "cell_type": "code",
   "execution_count": 43,
   "metadata": {},
   "outputs": [
    {
     "name": "stdout",
     "output_type": "stream",
     "text": [
      "Number of Non-Fradulent in training data = 199025\n",
      "Number of Fradulent in training data = 199025\n"
     ]
    }
   ],
   "source": [
    "Non_Fraud_count_random = sum(y_smote_over==0)\n",
    "Fraud_count_random = sum(y_smote_over==1)\n",
    "print('Number of Non-Fradulent in training data = '+ str(Non_Fraud_count_random))\n",
    "print('Number of Fradulent in training data = '+ str(Fraud_count_random))"
   ]
  },
  {
   "cell_type": "code",
   "execution_count": 44,
   "metadata": {},
   "outputs": [
    {
     "name": "stdout",
     "output_type": "stream",
     "text": [
      "Accuracy: 0.9847968821319476\n",
      "<sklearn.metrics._plot.confusion_matrix.ConfusionMatrixDisplay object at 0x0000029A27C900C8>\n",
      "<sklearn.metrics._plot.precision_recall_curve.PrecisionRecallDisplay object at 0x0000029A27CB6748>\n"
     ]
    },
    {
     "data": {
      "image/png": "[encoded data removed]",
      "text/plain": [
       "<Figure size 432x288 with 2 Axes>"
      ]
     },
     "metadata": {
      "needs_background": "light"
     },
     "output_type": "display_data"
    },
    {
     "data": {
      "image/png": "[encoded data removed]",
      "text/plain": [
       "<Figure size 432x288 with 1 Axes>"
      ]
     },
     "metadata": {
      "needs_background": "light"
     },
     "output_type": "display_data"
    }
   ],
   "source": [
    "model_results(svc,X_smote_over,y_smote_over,X_test,y_test)"
   ]
  },
  {
   "cell_type": "markdown",
   "metadata": {},
   "source": [
    "## ADASYN "
   ]
  },
  {
   "cell_type": "code",
   "execution_count": 45,
   "metadata": {},
   "outputs": [],
   "source": [
    "from imblearn.over_sampling import ADASYN"
   ]
  },
  {
   "cell_type": "code",
   "execution_count": 46,
   "metadata": {},
   "outputs": [],
   "source": [
    "adasyn_oversampler = ADASYN(n_neighbors=20,random_state=111)"
   ]
  },
  {
   "cell_type": "code",
   "execution_count": 47,
   "metadata": {},
   "outputs": [],
   "source": [
    "X_adasyn_over, y_adasyn_over = adasyn_oversampler.fit_sample(X_train,y_train)"
   ]
  },
  {
   "cell_type": "code",
   "execution_count": 48,
   "metadata": {},
   "outputs": [
    {
     "name": "stdout",
     "output_type": "stream",
     "text": [
      "Number of Non-Fradulent in training data = 199025\n",
      "Number of Fradulent in training data = 198991\n"
     ]
    }
   ],
   "source": [
    "Non_Fraud_count_random = sum(y_adasyn_over==0)\n",
    "Fraud_count_random = sum(y_adasyn_over==1)\n",
    "print('Number of Non-Fradulent in training data = '+ str(Non_Fraud_count_random))\n",
    "print('Number of Fradulent in training data = '+ str(Fraud_count_random))"
   ]
  },
  {
   "cell_type": "code",
   "execution_count": 49,
   "metadata": {},
   "outputs": [
    {
     "name": "stdout",
     "output_type": "stream",
     "text": [
      "Accuracy: 0.9775405826106293\n",
      "<sklearn.metrics._plot.confusion_matrix.ConfusionMatrixDisplay object at 0x0000029A278FFA08>\n",
      "<sklearn.metrics._plot.precision_recall_curve.PrecisionRecallDisplay object at 0x0000029A1D283888>\n"
     ]
    },
    {
     "data": {
      "image/png": "[encoded data removed]",
      "text/plain": [
       "<Figure size 432x288 with 2 Axes>"
      ]
     },
     "metadata": {
      "needs_background": "light"
     },
     "output_type": "display_data"
    },
    {
     "data": {
      "image/png": "[encoded data removed]",
      "text/plain": [
       "<Figure size 432x288 with 1 Axes>"
      ]
     },
     "metadata": {
      "needs_background": "light"
     },
     "output_type": "display_data"
    }
   ],
   "source": [
    "model_results(svc,X_adasyn_over,y_adasyn_over,X_test,y_test)"
   ]
  }
 ],
 "metadata": {
  "kernelspec": {
   "display_name": "Python 3",
   "language": "python",
   "name": "python3"
  },
  "language_info": {
   "codemirror_mode": {
    "name": "ipython",
    "version": 3
   },
   "file_extension": ".py",
   "mimetype": "text/x-python",
   "name": "python",
   "nbconvert_exporter": "python",
   "pygments_lexer": "ipython3",
   "version": "3.7.6"
  }
 },
 "nbformat": 4,
 "nbformat_minor": 4
}
